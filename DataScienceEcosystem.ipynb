{
 "cells": [
  {
   "cell_type": "markdown",
   "id": "a10036d0-94c7-4af4-b88e-0c220980c6b7",
   "metadata": {
    "tags": []
   },
   "source": [
    "# H1 : Data Science Tools and Ecosystem"
   ]
  },
  {
   "cell_type": "markdown",
   "id": "1bd9d69b-0981-4d56-90dd-e077cc3f5c46",
   "metadata": {},
   "source": [
    "# In this notebook, Data Science Tools and Ecosystem are summarized."
   ]
  },
  {
   "cell_type": "markdown",
   "id": "83e41269-4a29-408b-8013-adba042e78c8",
   "metadata": {},
   "source": [
    "**Objectives:**\n",
    "- List popular languages for Data Science\n",
    "- Some of the commonly used libraries used by Data Scientists\n",
    "- Data Science Tools\n",
    "- arithmetic expression\n"
   ]
  },
  {
   "cell_type": "markdown",
   "id": "375aed72-f3dd-4727-b7b1-58c2cb24e252",
   "metadata": {},
   "source": [
    "# Some of the popular languages that Data Scientists use are:\n",
    "1. Python\n",
    "2. R\n",
    "3. Java\n",
    "4. Scala "
   ]
  },
  {
   "cell_type": "markdown",
   "id": "ef4bd0ad-9657-45c1-9480-fef5e074a7f1",
   "metadata": {},
   "source": [
    "# Some of the commonly used libraries used by Data Scientists include:\n",
    "1. Pandas\n",
    "2. Scikit\n",
    "3. Matplotlib\n"
   ]
  },
  {
   "cell_type": "markdown",
   "id": "0cfc8883-8eaa-41cb-a7a3-bc6b69e03e88",
   "metadata": {},
   "source": [
    "# Data Science Tools\n",
    "|Data Science Tools|\n",
    "|------------------|\n",
    "|Jupyter note book|\n",
    "|R Studio|\n",
    "|Zepplin Note Book|"
   ]
  },
  {
   "cell_type": "markdown",
   "id": "c0860023-93c3-4c6d-8620-75e1af9621cd",
   "metadata": {},
   "source": [
    "# H3: Below are a few examples of evaluating arithmetic expressions in Python"
   ]
  },
  {
   "cell_type": "code",
   "execution_count": 4,
   "id": "467f3340-4da4-466c-b143-8dd7a0e1c57c",
   "metadata": {},
   "outputs": [
    {
     "data": {
      "text/plain": [
       "17"
      ]
     },
     "execution_count": 4,
     "metadata": {},
     "output_type": "execute_result"
    }
   ],
   "source": [
    "# This a simple arithmetic expression to mutiply then add integers\n",
    "(3*4)+5"
   ]
  },
  {
   "cell_type": "code",
   "execution_count": 5,
   "id": "81a39cc1-c28f-4c9f-9ef6-dc148c443dc1",
   "metadata": {},
   "outputs": [
    {
     "data": {
      "text/plain": [
       "3.3333333333333335"
      ]
     },
     "execution_count": 5,
     "metadata": {},
     "output_type": "execute_result"
    }
   ],
   "source": [
    "#  This will convert 200 minutes to hours by diving by 60\n",
    "200/60"
   ]
  },
  {
   "cell_type": "markdown",
   "id": "1c2377f2-c6cd-49ff-bf42-e62ef80ebc11",
   "metadata": {},
   "source": [
    "# H2 : Author\n",
    "Desabandhu Parasuraman"
   ]
  },
  {
   "cell_type": "code",
   "execution_count": null,
   "id": "56126ba8-800a-47f9-8772-37b9fcf54f60",
   "metadata": {},
   "outputs": [],
   "source": []
  }
 ],
 "metadata": {
  "kernelspec": {
   "display_name": "Python 3 (ipykernel)",
   "language": "python",
   "name": "python3"
  },
  "language_info": {
   "codemirror_mode": {
    "name": "ipython",
    "version": 3
   },
   "file_extension": ".py",
   "mimetype": "text/x-python",
   "name": "python",
   "nbconvert_exporter": "python",
   "pygments_lexer": "ipython3",
   "version": "3.9.12"
  }
 },
 "nbformat": 4,
 "nbformat_minor": 5
}
